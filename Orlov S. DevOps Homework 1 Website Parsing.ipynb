{
 "cells": [
  {
   "cell_type": "code",
   "execution_count": 6,
   "metadata": {},
   "outputs": [],
   "source": [
    "import bs4\n",
    "import requests\n",
    "import xlsxwriter"
   ]
  },
  {
   "cell_type": "code",
   "execution_count": 7,
   "metadata": {},
   "outputs": [],
   "source": [
    "main_url = 'https://trade59.ru/'\n",
    "data = [['Наименование', 'Цена', 'ССылка', 'Картинка']]"
   ]
  },
  {
   "cell_type": "code",
   "execution_count": 8,
   "metadata": {},
   "outputs": [],
   "source": [
    "headers = {'User-Agent': 'Mozilla/5.0 (Windows NT 10.0; Win64; x64) AppleWebKit/537.36 (KHTML, like Gecko) Chrome/114.0.0.0 Safari/537.36'}\n",
    "\n",
    "def get_soup(url):\n",
    "    res = requests.get(url, headers)\n",
    "    return bs4.BeautifulSoup(res.text, 'html.parser')\n",
    "\n"
   ]
  },
  {
   "cell_type": "code",
   "execution_count": 9,
   "metadata": {},
   "outputs": [],
   "source": [
    "categories_page = get_soup(main_url + 'catalog.html?cid=2256')\n",
    "categories = categories_page.findAll('a', class_='cat_item_color')"
   ]
  },
  {
   "cell_type": "code",
   "execution_count": 10,
   "metadata": {},
   "outputs": [],
   "source": [
    "for cat in categories:\n",
    "    subcategories_page = get_soup(main_url + cat['href'])\n",
    "    subcategories = subcategories_page.findAll('a', class_='cat_item_color')\n",
    "    for subcat in subcategories:\n",
    "        iphones_page = get_soup(main_url + subcat['href'])\n",
    "        iphones = iphones_page.findAll('div', class_='item_list')\n",
    "        for iphone in iphones:\n",
    "            title = iphone.find('a')['title'].strip()\n",
    "            price = iphone.find('div', class_='price').find(text=True).strip()\n",
    "            url = iphone.find('a')['href'].strip()\n",
    "            img = iphone.find('div', class_='image')['style'].split('url(')[1].split(')')[0].replace('/tn/', '/source')\n",
    "            data.append([title, price, url, img])\n",
    "\n",
    "with xlsxwriter.Workbook('iphones.xlsx') as workbook:\n",
    "    worksheet = workbook.add_worksheet()\n",
    "    \n",
    "    for row_num, info in enumerate(data):\n",
    "        worksheet.write_row(row_num, 0, info)"
   ]
  },
  {
   "cell_type": "code",
   "execution_count": null,
   "metadata": {},
   "outputs": [],
   "source": []
  }
 ],
 "metadata": {
  "kernelspec": {
   "display_name": "Python 3",
   "language": "python",
   "name": "python3"
  },
  "language_info": {
   "codemirror_mode": {
    "name": "ipython",
    "version": 3
   },
   "file_extension": ".py",
   "mimetype": "text/x-python",
   "name": "python",
   "nbconvert_exporter": "python",
   "pygments_lexer": "ipython3",
   "version": "3.8.5"
  }
 },
 "nbformat": 4,
 "nbformat_minor": 4
}
